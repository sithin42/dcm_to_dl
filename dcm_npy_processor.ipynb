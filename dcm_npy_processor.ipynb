{
 "cells": [
  {
   "cell_type": "code",
   "execution_count": 1,
   "metadata": {},
   "outputs": [],
   "source": [
    "ROI_NAMES = ['patient','lung','gtv'] #Will be used to match the ROINames in the RTSTRUCT file\n",
    "ROOT_PATH = r\"C:\\Users\\sithi\\Research\\dataset\\Lung1_organized\"\n",
    "OUT_PATH = r\"C:\\Users\\sithi\\Research\\dataset_processed\\Lung1_npy_vol\""
   ]
  },
  {
   "cell_type": "code",
   "execution_count": 2,
   "metadata": {},
   "outputs": [],
   "source": [
    "import os as os\n",
    "import pydicom as pydicom\n",
    "import SimpleITK as sitk\n",
    "import numpy as np\n",
    "from skimage.draw import polygon\n",
    "from concurrent.futures import ThreadPoolExecutor"
   ]
  },
  {
   "cell_type": "code",
   "execution_count": 3,
   "metadata": {},
   "outputs": [],
   "source": [
    "from tqdm import tqdm\n",
    "from ipywidgets import interact, widgets\n",
    "import matplotlib.pyplot as plt"
   ]
  },
  {
   "cell_type": "markdown",
   "metadata": {},
   "source": [
    "# DICOM Series & RTSTRUCT to npy volumes"
   ]
  },
  {
   "cell_type": "code",
   "execution_count": 4,
   "metadata": {},
   "outputs": [
    {
     "name": "stderr",
     "output_type": "stream",
     "text": [
      "\r",
      "Processing dcm_files:   0%|                                                                      | 0/1 [00:00<?, ?it/s]"
     ]
    }
   ],
   "source": [
    "def dcms_to_npy(path, pbar=tqdm([1], position=0,desc=\"Processing dcm_files\")):\n",
    "    \n",
    "    pbar.set_description(f\"Loading dcm series inside folder {path}\")\n",
    "    \n",
    "    try:\n",
    "        series_ids = sitk.ImageSeriesReader.GetGDCMSeriesIDs(path)\n",
    "    except:\n",
    "        pbar.set_description(f\"No dcm series found in path {path}\")\n",
    "        return\n",
    "    \n",
    "    img_vol = []\n",
    "    seen_files = set()\n",
    "    out_path = path.replace(ROOT_PATH, OUT_PATH)\n",
    "    img_position, pixel_spacing, slope, intercept = None, None, None, None\n",
    "    candidate_rt_paths = set()\n",
    "\n",
    "\n",
    "\n",
    "    for id in series_ids:\n",
    "\n",
    "        dcm_files = sitk.ImageSeriesReader.GetGDCMSeriesFileNames(path, id)\n",
    "        seen_files = seen_files.union([os.path.join(path,file.split('/')[-1]) for file in dcm_files])\n",
    "\n",
    "        for file in dcm_files:\n",
    "            dcm_file = pydicom.dcmread(file)\n",
    "            if not (dcm_file.Modality == 'CT'):\n",
    "                break;\n",
    "\n",
    "            if not (img_vol):\n",
    "                img_position = np.array(dcm_file.ImagePositionPatient)\n",
    "                pixel_spacing = np.array([*dcm_file.PixelSpacing] + [dcm_file.SliceThickness])\n",
    "                slope = dcm_file.RescaleSlope\n",
    "                intercept = dcm_file.RescaleIntercept\n",
    "\n",
    "                keys = [\"Manufacturer\", \"SoftwareVersions\", \"Kernel\", \"KVP\", \"ExposureTime\", \"Exposure\",\n",
    "                        \"TubeCurrent\", \"PixelSpacing\", \"SliceThickness\", \"StudyInstanceUID\", \"PatientName\",\n",
    "                        \"PatientID\"]\n",
    "                values = [dcm_file.get(\"Manufacturer\",\"\"), dcm_file.get(\"SoftwareVersions\",\"\"), dcm_file.get(\"ConvolutionKernel\",\"\"),\n",
    "                          dcm_file.get(\"KVP\",\"\"),dcm_file.get(\"ExposureTime\",\"\"), dcm_file.get(\"Exposure\",\"\"), dcm_file.get(\"XRayTubeCurrent\",\"\"),\n",
    "                          dcm_file.get(\"PixelSpacing\",\"\"), dcm_file.get(\"SliceThickness\",\"\"), dcm_file.get(\"StudyInstanceUID\",\"\"),\n",
    "                          dcm_file.get(\"PatientName\",\"\"), dcm_file.get(\"PatientID\",\"\")]\n",
    "                meta_info = dict(zip(keys, values))\n",
    "\n",
    "\n",
    "                if not os.path.exists(out_path):\n",
    "                    os.makedirs(out_path)\n",
    "\n",
    "                np.save(os.path.join(out_path,\"meta_info.npy\"),meta_info)\n",
    "\n",
    "            img_vol.append(dcm_file.pixel_array)\n",
    "\n",
    "    all_files = set(os.path.join(path, file) for file in os.listdir(path) if file.endswith(\".dcm\"))\n",
    "    candidate_rt_paths = candidate_rt_paths.union(all_files - seen_files)\n",
    "    \n",
    "\n",
    "    img_vol = np.array(img_vol)\n",
    "    img_vol = (img_vol * slope) + intercept\n",
    "    np.save(os.path.join(out_path, \"image.npy\"), img_vol)\n",
    "        \n",
    "        \n",
    "    rt_flag = 0\n",
    "        \n",
    "    for rt_path in candidate_rt_paths:\n",
    "        \n",
    "        \n",
    "        try:\n",
    "            dcm = pydicom.dcmread(rt_path)\n",
    "        except:\n",
    "            rt_flag += 1\n",
    "            continue;\n",
    "            \n",
    "        if not(dcm.Modality=='RTSTRUCT'):\n",
    "            rt_flag += 1\n",
    "            continue;\n",
    "            \n",
    "\n",
    "        out_path = os.path.join(out_path, \"masks\")\n",
    "        if not os.path.exists(out_path):\n",
    "            os.makedirs(out_path)\n",
    "            \n",
    "\n",
    "        for ROI_Name in ROI_NAMES:\n",
    "\n",
    "            mask_vol = np.zeros_like(img_vol, dtype=np.bool8)\n",
    "            \n",
    "            connected_vol = np.zeros_like(img_vol, dtype=np.bool8)\n",
    "\n",
    "\n",
    "            ROI_Numbers = [roi_sequence.ROINumber for roi_sequence in dcm.StructureSetROISequence]\n",
    "            candidate_roi_indeces = [ROI_Numbers.index(roi_sequence.ROINumber) for roi_sequence in dcm.StructureSetROISequence if ROI_Name.lower() in roi_sequence.ROIName.lower()]\n",
    "            \n",
    "            if(candidate_roi_indeces):\n",
    "\n",
    "                for index in candidate_roi_indeces:\n",
    "\n",
    "\n",
    "                    coords_list = [sequence.ContourData for sequence in\n",
    "                                   dcm.ROIContourSequence[index].ContourSequence]\n",
    "\n",
    "                    _mask_vol = np.copy(mask_vol)\n",
    "\n",
    "                    cache_indeces = []\n",
    "\n",
    "                    for coords in coords_list:\n",
    "                        coords = np.array(coords).reshape(-1, 3)\n",
    "\n",
    "                        coords = np.rint((coords - img_position) / pixel_spacing)\n",
    "\n",
    "                        Y = coords[:, 0]\n",
    "                        X = coords[:, 1]\n",
    "                        slice_no = int(np.unique(coords[:, 2])[0])\n",
    "                        \n",
    "                        if slice_no>=len(mask_vol):\n",
    "                            \n",
    "                            print(f\"Ignored error while loading {ROI_Name} contour at Z-index {slice_no} in {path}\")\n",
    "                            continue;\n",
    "\n",
    "                        rr, cc = polygon(X, Y)\n",
    "                        _mask_vol[slice_no, rr, cc] = 1\n",
    "                        \n",
    "                        cache_indeces += [slice_no]\n",
    "\n",
    "\n",
    "                    _connected_vol = np.copy(_mask_vol)\n",
    "                    \n",
    "                    #trivial connected component extraction, helps in minor contour correction\n",
    "\n",
    "                    for slice_no in cache_indeces:\n",
    "\n",
    "\n",
    "                        if slice_no == 0:\n",
    "                            _connected_vol[slice_no] = _connected_vol[slice_no] | _connected_vol[slice_no + 1]\n",
    "                        elif slice_no == len(_mask_vol) - 1:\n",
    "                            _connected_vol[slice_no] = _connected_vol[slice_no - 1] | _connected_vol[slice_no]\n",
    "                        else:\n",
    "                            _connected_vol[slice_no] = (_connected_vol[slice_no] | _connected_vol[\n",
    "                                slice_no + 1]) & (_connected_vol[slice_no - 1] | _connected_vol[slice_no])\n",
    "\n",
    "                    mask_vol = mask_vol | _mask_vol\n",
    "                    connected_vol = connected_vol | _connected_vol\n",
    "                            \n",
    "                \n",
    "                #np.save(os.path.join(out_path, ROI_Name.lower()+\".npy\"), mask_vol)\n",
    "                np.save(os.path.join(out_path,ROI_Name.lower()+\".npy\"),connected_vol)\n",
    "     \n",
    "    if rt_flag==len(candidate_rt_paths):\n",
    "        print(f\"No RTSTRUCT file found inside folder {path}\")\n",
    "        \n",
    "    pbar.update()\n"
   ]
  },
  {
   "cell_type": "markdown",
   "metadata": {},
   "source": [
    "__Sanity Check__"
   ]
  },
  {
   "cell_type": "code",
   "execution_count": 5,
   "metadata": {},
   "outputs": [],
   "source": [
    "test_folder_name = \"Lung-LUNG1-307\""
   ]
  },
  {
   "cell_type": "code",
   "execution_count": 6,
   "metadata": {
    "collapsed": true
   },
   "outputs": [
    {
     "name": "stderr",
     "output_type": "stream",
     "text": [
      "\r",
      "Loading dcm series inside folder C:\\Users\\sithi\\Research\\dataset\\Lung1_organized\\Lung-LUNG1-307:   0%| | 0/1 [00:05<?, "
     ]
    },
    {
     "name": "stdout",
     "output_type": "stream",
     "text": [
      "Ignored error while loading patient contour at Z-index 133 in C:\\Users\\sithi\\Research\\dataset\\Lung1_organized\\Lung-LUNG1-307\n"
     ]
    },
    {
     "name": "stderr",
     "output_type": "stream",
     "text": [
      "\r",
      "Loading dcm series inside folder C:\\Users\\sithi\\Research\\dataset\\Lung1_organized\\Lung-LUNG1-307: 100%|█| 1/1 [00:13<00:"
     ]
    }
   ],
   "source": [
    "path = os.path.join(ROOT_PATH,test_folder_name)\n",
    "dcms_to_npy(path)"
   ]
  },
  {
   "cell_type": "markdown",
   "metadata": {},
   "source": [
    "__Visualizing Volume__"
   ]
  },
  {
   "cell_type": "code",
   "execution_count": 7,
   "metadata": {},
   "outputs": [
    {
     "data": {
      "application/vnd.jupyter.widget-view+json": {
       "model_id": "afb9fd5ed905466b9c6db48e6fd4a3e4",
       "version_major": 2,
       "version_minor": 0
      },
      "text/plain": [
       "interactive(children=(IntSlider(value=0, description='i', max=132), Output()), _dom_classes=('widget-interact'…"
      ]
     },
     "metadata": {},
     "output_type": "display_data"
    },
    {
     "data": {
      "text/plain": [
       "<function __main__.visualize_vol(i)>"
      ]
     },
     "execution_count": 7,
     "metadata": {},
     "output_type": "execute_result"
    }
   ],
   "source": [
    "path = os.path.join(OUT_PATH,test_folder_name)\n",
    "img_path = os.path.join(path,\"image.npy\")\n",
    "mask_path = os.path.join(path,\"masks\")\n",
    "\n",
    "img = np.load(img_path)\n",
    "masks = np.array([np.load(os.path.join(mask_path,f\"{roi_name.lower()}.npy\")) for roi_name in ROI_NAMES])\n",
    "\n",
    "def visualize_vol(i):\n",
    "    \n",
    "    plt.imshow(img[i],cmap='gray')\n",
    "    _masks = masks[:,i]\n",
    "    \n",
    "    for mask,roi_name in zip(_masks, ROI_NAMES):\n",
    "        plt.scatter(np.argwhere(mask)[:,1],np.argwhere(mask)[:,0], label=roi_name)\n",
    "        #plt.contour(mask)\n",
    "       \n",
    "    plt.legend()\n",
    "         \n",
    "         \n",
    "    \n",
    "\n",
    "interact(visualize_vol,i=widgets.IntSlider(0,0,len(img)-1,1))"
   ]
  },
  {
   "cell_type": "markdown",
   "metadata": {},
   "source": [
    "# Main"
   ]
  },
  {
   "cell_type": "code",
   "execution_count": 8,
   "metadata": {},
   "outputs": [],
   "source": [
    "num_workers = 3"
   ]
  },
  {
   "cell_type": "code",
   "execution_count": 9,
   "metadata": {
    "collapsed": true
   },
   "outputs": [
    {
     "name": "stderr",
     "output_type": "stream",
     "text": [
      "Loading dcm series inside folder C:\\Users\\sithi\\Research\\dataset\\Lung1_organized\\Lung-LUNG1-015:   3%| | 12/422 [02:18<"
     ]
    },
    {
     "name": "stdout",
     "output_type": "stream",
     "text": [
      "Ignored error while loading patient contour at Z-index 87 in C:\\Users\\sithi\\Research\\dataset\\Lung1_organized\\Lung-LUNG1-014\n",
      "Ignored error while loading patient contour at Z-index 88 in C:\\Users\\sithi\\Research\\dataset\\Lung1_organized\\Lung-LUNG1-014\n",
      "Ignored error while loading patient contour at Z-index 89 in C:\\Users\\sithi\\Research\\dataset\\Lung1_organized\\Lung-LUNG1-014\n",
      "Ignored error while loading patient contour at Z-index 90 in C:\\Users\\sithi\\Research\\dataset\\Lung1_organized\\Lung-LUNG1-014\n",
      "Ignored error while loading patient contour at Z-index 91 in C:\\Users\\sithi\\Research\\dataset\\Lung1_organized\\Lung-LUNG1-014\n",
      "Ignored error while loading patient contour at Z-index 92 in C:\\Users\\sithi\\Research\\dataset\\Lung1_organized\\Lung-LUNG1-014\n",
      "Ignored error while loading patient contour at Z-index 93 in C:\\Users\\sithi\\Research\\dataset\\Lung1_organized\\Lung-LUNG1-014\n",
      "Ignored error while loading patient contour at Z-index 94 in C:\\Users\\sithi\\Research\\dataset\\Lung1_organized\\Lung-LUNG1-014\n",
      "Ignored error while loading patient contour at Z-index 95 in C:\\Users\\sithi\\Research\\dataset\\Lung1_organized\\Lung-LUNG1-014\n",
      "Ignored error while loading patient contour at Z-index 96 in C:\\Users\\sithi\\Research\\dataset\\Lung1_organized\\Lung-LUNG1-014\n",
      "Ignored error while loading patient contour at Z-index 97 in C:\\Users\\sithi\\Research\\dataset\\Lung1_organized\\Lung-LUNG1-014\n",
      "Ignored error while loading patient contour at Z-index 98 in C:\\Users\\sithi\\Research\\dataset\\Lung1_organized\\Lung-LUNG1-014\n",
      "Ignored error while loading patient contour at Z-index 99 in C:\\Users\\sithi\\Research\\dataset\\Lung1_organized\\Lung-LUNG1-014\n",
      "Ignored error while loading patient contour at Z-index 100 in C:\\Users\\sithi\\Research\\dataset\\Lung1_organized\\Lung-LUNG1-014\n",
      "Ignored error while loading patient contour at Z-index 101 in C:\\Users\\sithi\\Research\\dataset\\Lung1_organized\\Lung-LUNG1-014\n",
      "Ignored error while loading patient contour at Z-index 102 in C:\\Users\\sithi\\Research\\dataset\\Lung1_organized\\Lung-LUNG1-014\n",
      "Ignored error while loading lung contour at Z-index 87 in C:\\Users\\sithi\\Research\\dataset\\Lung1_organized\\Lung-LUNG1-014\n",
      "Ignored error while loading lung contour at Z-index 88 in C:\\Users\\sithi\\Research\\dataset\\Lung1_organized\\Lung-LUNG1-014\n",
      "Ignored error while loading lung contour at Z-index 89 in C:\\Users\\sithi\\Research\\dataset\\Lung1_organized\\Lung-LUNG1-014\n",
      "Ignored error while loading lung contour at Z-index 90 in C:\\Users\\sithi\\Research\\dataset\\Lung1_organized\\Lung-LUNG1-014\n",
      "Ignored error while loading lung contour at Z-index 91 in C:\\Users\\sithi\\Research\\dataset\\Lung1_organized\\Lung-LUNG1-014\n",
      "Ignored error while loading lung contour at Z-index 87 in C:\\Users\\sithi\\Research\\dataset\\Lung1_organized\\Lung-LUNG1-014\n",
      "Ignored error while loading lung contour at Z-index 88 in C:\\Users\\sithi\\Research\\dataset\\Lung1_organized\\Lung-LUNG1-014\n",
      "Ignored error while loading lung contour at Z-index 89 in C:\\Users\\sithi\\Research\\dataset\\Lung1_organized\\Lung-LUNG1-014\n",
      "Ignored error while loading lung contour at Z-index 90 in C:\\Users\\sithi\\Research\\dataset\\Lung1_organized\\Lung-LUNG1-014\n",
      "Ignored error while loading lung contour at Z-index 91 in C:\\Users\\sithi\\Research\\dataset\\Lung1_organized\\Lung-LUNG1-014\n",
      "Ignored error while loading lung contour at Z-index 92 in C:\\Users\\sithi\\Research\\dataset\\Lung1_organized\\Lung-LUNG1-014\n"
     ]
    },
    {
     "name": "stderr",
     "output_type": "stream",
     "text": [
      "Loading dcm series inside folder C:\\Users\\sithi\\Research\\dataset\\Lung1_organized\\Lung-LUNG1-016:   3%| | 13/422 [02:33<"
     ]
    },
    {
     "name": "stdout",
     "output_type": "stream",
     "text": [
      "Ignored error while loading patient contour at Z-index 134 in C:\\Users\\sithi\\Research\\dataset\\Lung1_organized\\Lung-LUNG1-013\n",
      "Ignored error while loading patient contour at Z-index 135 in C:\\Users\\sithi\\Research\\dataset\\Lung1_organized\\Lung-LUNG1-013\n",
      "Ignored error while loading patient contour at Z-index 136 in C:\\Users\\sithi\\Research\\dataset\\Lung1_organized\\Lung-LUNG1-013\n"
     ]
    },
    {
     "name": "stderr",
     "output_type": "stream",
     "text": [
      "Loading dcm series inside folder C:\\Users\\sithi\\Research\\dataset\\Lung1_organized\\Lung-LUNG1-023:   5%| | 20/422 [03:45<"
     ]
    },
    {
     "name": "stdout",
     "output_type": "stream",
     "text": [
      "Ignored error while loading patient contour at Z-index 197 in C:\\Users\\sithi\\Research\\dataset\\Lung1_organized\\Lung-LUNG1-021\n",
      "Ignored error while loading patient contour at Z-index 197 in C:\\Users\\sithi\\Research\\dataset\\Lung1_organized\\Lung-LUNG1-021\n",
      "Ignored error while loading patient contour at Z-index 197 in C:\\Users\\sithi\\Research\\dataset\\Lung1_organized\\Lung-LUNG1-021\n"
     ]
    },
    {
     "name": "stderr",
     "output_type": "stream",
     "text": [
      "Loading dcm series inside folder C:\\Users\\sithi\\Research\\dataset\\Lung1_organized\\Lung-LUNG1-040:   9%| | 37/422 [06:22<"
     ]
    },
    {
     "name": "stdout",
     "output_type": "stream",
     "text": [
      "Ignored error while loading patient contour at Z-index 174 in C:\\Users\\sithi\\Research\\dataset\\Lung1_organized\\Lung-LUNG1-038\n",
      "Ignored error while loading patient contour at Z-index 175 in C:\\Users\\sithi\\Research\\dataset\\Lung1_organized\\Lung-LUNG1-038\n"
     ]
    },
    {
     "name": "stderr",
     "output_type": "stream",
     "text": [
      "Loading dcm series inside folder C:\\Users\\sithi\\Research\\dataset\\Lung1_organized\\Lung-LUNG1-045:  10%| | 42/422 [07:07<"
     ]
    },
    {
     "name": "stdout",
     "output_type": "stream",
     "text": [
      "Ignored error while loading patient contour at Z-index 101 in C:\\Users\\sithi\\Research\\dataset\\Lung1_organized\\Lung-LUNG1-043\n",
      "Ignored error while loading patient contour at Z-index 102 in C:\\Users\\sithi\\Research\\dataset\\Lung1_organized\\Lung-LUNG1-043\n"
     ]
    },
    {
     "name": "stderr",
     "output_type": "stream",
     "text": [
      "Loading dcm series inside folder C:\\Users\\sithi\\Research\\dataset\\Lung1_organized\\Lung-LUNG1-046:  10%| | 44/422 [07:26<"
     ]
    },
    {
     "name": "stdout",
     "output_type": "stream",
     "text": [
      "Ignored error while loading patient contour at Z-index 91 in C:\\Users\\sithi\\Research\\dataset\\Lung1_organized\\Lung-LUNG1-045\n",
      "Ignored error while loading patient contour at Z-index 92 in C:\\Users\\sithi\\Research\\dataset\\Lung1_organized\\Lung-LUNG1-045\n"
     ]
    },
    {
     "name": "stderr",
     "output_type": "stream",
     "text": [
      "Loading dcm series inside folder C:\\Users\\sithi\\Research\\dataset\\Lung1_organized\\Lung-LUNG1-086:  20%|▏| 83/422 [14:00<"
     ]
    },
    {
     "name": "stdout",
     "output_type": "stream",
     "text": [
      "Ignored error while loading patient contour at Z-index 106 in C:\\Users\\sithi\\Research\\dataset\\Lung1_organized\\Lung-LUNG1-085\n",
      "Ignored error while loading patient contour at Z-index 108 in C:\\Users\\sithi\\Research\\dataset\\Lung1_organized\\Lung-LUNG1-085\n",
      "Ignored error while loading patient contour at Z-index 109 in C:\\Users\\sithi\\Research\\dataset\\Lung1_organized\\Lung-LUNG1-085\n",
      "Ignored error while loading patient contour at Z-index 110 in C:\\Users\\sithi\\Research\\dataset\\Lung1_organized\\Lung-LUNG1-085\n",
      "Ignored error while loading patient contour at Z-index 111 in C:\\Users\\sithi\\Research\\dataset\\Lung1_organized\\Lung-LUNG1-085\n",
      "Ignored error while loading patient contour at Z-index 112 in C:\\Users\\sithi\\Research\\dataset\\Lung1_organized\\Lung-LUNG1-085\n",
      "Ignored error while loading patient contour at Z-index 114 in C:\\Users\\sithi\\Research\\dataset\\Lung1_organized\\Lung-LUNG1-085\n",
      "Ignored error while loading patient contour at Z-index 115 in C:\\Users\\sithi\\Research\\dataset\\Lung1_organized\\Lung-LUNG1-085\n"
     ]
    },
    {
     "name": "stderr",
     "output_type": "stream",
     "text": [
      "Loading dcm series inside folder C:\\Users\\sithi\\Research\\dataset\\Lung1_organized\\Lung-LUNG1-104:  24%|▏| 101/422 [17:12"
     ]
    },
    {
     "name": "stdout",
     "output_type": "stream",
     "text": [
      "Ignored error while loading patient contour at Z-index 111 in C:\\Users\\sithi\\Research\\dataset\\Lung1_organized\\Lung-LUNG1-103\n"
     ]
    },
    {
     "name": "stderr",
     "output_type": "stream",
     "text": [
      "Loading dcm series inside folder C:\\Users\\sithi\\Research\\dataset\\Lung1_organized\\Lung-LUNG1-106:  24%|▏| 103/422 [17:35"
     ]
    },
    {
     "name": "stdout",
     "output_type": "stream",
     "text": [
      "Ignored error while loading patient contour at Z-index 111 in C:\\Users\\sithi\\Research\\dataset\\Lung1_organized\\Lung-LUNG1-105\n",
      "Ignored error while loading patient contour at Z-index 112 in C:\\Users\\sithi\\Research\\dataset\\Lung1_organized\\Lung-LUNG1-105\n",
      "Ignored error while loading patient contour at Z-index 113 in C:\\Users\\sithi\\Research\\dataset\\Lung1_organized\\Lung-LUNG1-105\n",
      "Ignored error while loading patient contour at Z-index 114 in C:\\Users\\sithi\\Research\\dataset\\Lung1_organized\\Lung-LUNG1-105\n",
      "Ignored error while loading patient contour at Z-index 115 in C:\\Users\\sithi\\Research\\dataset\\Lung1_organized\\Lung-LUNG1-105\n",
      "Ignored error while loading patient contour at Z-index 116 in C:\\Users\\sithi\\Research\\dataset\\Lung1_organized\\Lung-LUNG1-105\n"
     ]
    },
    {
     "name": "stderr",
     "output_type": "stream",
     "text": [
      "Loading dcm series inside folder C:\\Users\\sithi\\Research\\dataset\\Lung1_organized\\Lung-LUNG1-131:  30%|▎| 128/422 [23:37"
     ]
    },
    {
     "name": "stdout",
     "output_type": "stream",
     "text": [
      "Ignored error while loading patient contour at Z-index 112 in C:\\Users\\sithi\\Research\\dataset\\Lung1_organized\\Lung-LUNG1-129\n",
      "Ignored error while loading patient contour at Z-index 112 in C:\\Users\\sithi\\Research\\dataset\\Lung1_organized\\Lung-LUNG1-129\n",
      "Ignored error while loading patient contour at Z-index 112 in C:\\Users\\sithi\\Research\\dataset\\Lung1_organized\\Lung-LUNG1-129\n",
      "Ignored error while loading patient contour at Z-index 113 in C:\\Users\\sithi\\Research\\dataset\\Lung1_organized\\Lung-LUNG1-129\n",
      "Ignored error while loading patient contour at Z-index 113 in C:\\Users\\sithi\\Research\\dataset\\Lung1_organized\\Lung-LUNG1-129\n",
      "Ignored error while loading patient contour at Z-index 113 in C:\\Users\\sithi\\Research\\dataset\\Lung1_organized\\Lung-LUNG1-129\n",
      "Ignored error while loading patient contour at Z-index 114 in C:\\Users\\sithi\\Research\\dataset\\Lung1_organized\\Lung-LUNG1-129\n",
      "Ignored error while loading patient contour at Z-index 114 in C:\\Users\\sithi\\Research\\dataset\\Lung1_organized\\Lung-LUNG1-129\n",
      "Ignored error while loading patient contour at Z-index 114 in C:\\Users\\sithi\\Research\\dataset\\Lung1_organized\\Lung-LUNG1-129\n",
      "Ignored error while loading patient contour at Z-index 115 in C:\\Users\\sithi\\Research\\dataset\\Lung1_organized\\Lung-LUNG1-129\n",
      "Ignored error while loading patient contour at Z-index 115 in C:\\Users\\sithi\\Research\\dataset\\Lung1_organized\\Lung-LUNG1-129\n",
      "Ignored error while loading patient contour at Z-index 115 in C:\\Users\\sithi\\Research\\dataset\\Lung1_organized\\Lung-LUNG1-129\n",
      "Ignored error while loading patient contour at Z-index 116 in C:\\Users\\sithi\\Research\\dataset\\Lung1_organized\\Lung-LUNG1-129\n",
      "Ignored error while loading patient contour at Z-index 116 in C:\\Users\\sithi\\Research\\dataset\\Lung1_organized\\Lung-LUNG1-129\n",
      "Ignored error while loading patient contour at Z-index 116 in C:\\Users\\sithi\\Research\\dataset\\Lung1_organized\\Lung-LUNG1-129\n",
      "Ignored error while loading patient contour at Z-index 117 in C:\\Users\\sithi\\Research\\dataset\\Lung1_organized\\Lung-LUNG1-129\n",
      "Ignored error while loading patient contour at Z-index 117 in C:\\Users\\sithi\\Research\\dataset\\Lung1_organized\\Lung-LUNG1-129\n",
      "Ignored error while loading patient contour at Z-index 117 in C:\\Users\\sithi\\Research\\dataset\\Lung1_organized\\Lung-LUNG1-129\n",
      "Ignored error while loading patient contour at Z-index 118 in C:\\Users\\sithi\\Research\\dataset\\Lung1_organized\\Lung-LUNG1-129\n",
      "Ignored error while loading patient contour at Z-index 118 in C:\\Users\\sithi\\Research\\dataset\\Lung1_organized\\Lung-LUNG1-129\n",
      "Ignored error while loading patient contour at Z-index 118 in C:\\Users\\sithi\\Research\\dataset\\Lung1_organized\\Lung-LUNG1-129\n",
      "Ignored error while loading patient contour at Z-index 119 in C:\\Users\\sithi\\Research\\dataset\\Lung1_organized\\Lung-LUNG1-129\n",
      "Ignored error while loading patient contour at Z-index 119 in C:\\Users\\sithi\\Research\\dataset\\Lung1_organized\\Lung-LUNG1-129\n",
      "Ignored error while loading patient contour at Z-index 119 in C:\\Users\\sithi\\Research\\dataset\\Lung1_organized\\Lung-LUNG1-129\n",
      "Ignored error while loading patient contour at Z-index 120 in C:\\Users\\sithi\\Research\\dataset\\Lung1_organized\\Lung-LUNG1-129\n",
      "Ignored error while loading patient contour at Z-index 120 in C:\\Users\\sithi\\Research\\dataset\\Lung1_organized\\Lung-LUNG1-129\n",
      "Ignored error while loading patient contour at Z-index 120 in C:\\Users\\sithi\\Research\\dataset\\Lung1_organized\\Lung-LUNG1-129\n",
      "Ignored error while loading patient contour at Z-index 121 in C:\\Users\\sithi\\Research\\dataset\\Lung1_organized\\Lung-LUNG1-129\n",
      "Ignored error while loading patient contour at Z-index 121 in C:\\Users\\sithi\\Research\\dataset\\Lung1_organized\\Lung-LUNG1-129\n",
      "Ignored error while loading patient contour at Z-index 121 in C:\\Users\\sithi\\Research\\dataset\\Lung1_organized\\Lung-LUNG1-129\n"
     ]
    },
    {
     "name": "stderr",
     "output_type": "stream",
     "text": [
      "Loading dcm series inside folder C:\\Users\\sithi\\Research\\dataset\\Lung1_organized\\Lung-LUNG1-173:  40%|▍| 170/422 [31:26"
     ]
    },
    {
     "name": "stdout",
     "output_type": "stream",
     "text": [
      "Ignored error while loading patient contour at Z-index 95 in C:\\Users\\sithi\\Research\\dataset\\Lung1_organized\\Lung-LUNG1-172\n",
      "Ignored error while loading patient contour at Z-index 96 in C:\\Users\\sithi\\Research\\dataset\\Lung1_organized\\Lung-LUNG1-172\n",
      "Ignored error while loading patient contour at Z-index 97 in C:\\Users\\sithi\\Research\\dataset\\Lung1_organized\\Lung-LUNG1-172\n",
      "Ignored error while loading patient contour at Z-index 98 in C:\\Users\\sithi\\Research\\dataset\\Lung1_organized\\Lung-LUNG1-172\n",
      "Ignored error while loading patient contour at Z-index 99 in C:\\Users\\sithi\\Research\\dataset\\Lung1_organized\\Lung-LUNG1-172\n",
      "Ignored error while loading patient contour at Z-index 103 in C:\\Users\\sithi\\Research\\dataset\\Lung1_organized\\Lung-LUNG1-172\n",
      "Ignored error while loading patient contour at Z-index 104 in C:\\Users\\sithi\\Research\\dataset\\Lung1_organized\\Lung-LUNG1-172\n",
      "Ignored error while loading patient contour at Z-index 105 in C:\\Users\\sithi\\Research\\dataset\\Lung1_organized\\Lung-LUNG1-172\n",
      "Ignored error while loading patient contour at Z-index 106 in C:\\Users\\sithi\\Research\\dataset\\Lung1_organized\\Lung-LUNG1-172\n"
     ]
    },
    {
     "name": "stderr",
     "output_type": "stream",
     "text": [
      "Loading dcm series inside folder C:\\Users\\sithi\\Research\\dataset\\Lung1_organized\\Lung-LUNG1-181:  42%|▍| 178/422 [32:34"
     ]
    },
    {
     "name": "stdout",
     "output_type": "stream",
     "text": [
      "Ignored error while loading patient contour at Z-index 125 in C:\\Users\\sithi\\Research\\dataset\\Lung1_organized\\Lung-LUNG1-180\n",
      "Ignored error while loading patient contour at Z-index 125 in C:\\Users\\sithi\\Research\\dataset\\Lung1_organized\\Lung-LUNG1-180\n",
      "Ignored error while loading patient contour at Z-index 126 in C:\\Users\\sithi\\Research\\dataset\\Lung1_organized\\Lung-LUNG1-180\n",
      "Ignored error while loading patient contour at Z-index 126 in C:\\Users\\sithi\\Research\\dataset\\Lung1_organized\\Lung-LUNG1-180\n",
      "Ignored error while loading patient contour at Z-index 127 in C:\\Users\\sithi\\Research\\dataset\\Lung1_organized\\Lung-LUNG1-180\n",
      "Ignored error while loading patient contour at Z-index 127 in C:\\Users\\sithi\\Research\\dataset\\Lung1_organized\\Lung-LUNG1-180\n",
      "Ignored error while loading patient contour at Z-index 127 in C:\\Users\\sithi\\Research\\dataset\\Lung1_organized\\Lung-LUNG1-180\n",
      "Ignored error while loading patient contour at Z-index 128 in C:\\Users\\sithi\\Research\\dataset\\Lung1_organized\\Lung-LUNG1-180\n",
      "Ignored error while loading patient contour at Z-index 128 in C:\\Users\\sithi\\Research\\dataset\\Lung1_organized\\Lung-LUNG1-180\n",
      "Ignored error while loading patient contour at Z-index 128 in C:\\Users\\sithi\\Research\\dataset\\Lung1_organized\\Lung-LUNG1-180\n",
      "Ignored error while loading patient contour at Z-index 129 in C:\\Users\\sithi\\Research\\dataset\\Lung1_organized\\Lung-LUNG1-180\n",
      "Ignored error while loading patient contour at Z-index 129 in C:\\Users\\sithi\\Research\\dataset\\Lung1_organized\\Lung-LUNG1-180\n",
      "Ignored error while loading patient contour at Z-index 129 in C:\\Users\\sithi\\Research\\dataset\\Lung1_organized\\Lung-LUNG1-180\n",
      "Ignored error while loading patient contour at Z-index 130 in C:\\Users\\sithi\\Research\\dataset\\Lung1_organized\\Lung-LUNG1-180\n",
      "Ignored error while loading patient contour at Z-index 130 in C:\\Users\\sithi\\Research\\dataset\\Lung1_organized\\Lung-LUNG1-180\n",
      "Ignored error while loading patient contour at Z-index 130 in C:\\Users\\sithi\\Research\\dataset\\Lung1_organized\\Lung-LUNG1-180\n",
      "Ignored error while loading patient contour at Z-index 131 in C:\\Users\\sithi\\Research\\dataset\\Lung1_organized\\Lung-LUNG1-180\n",
      "Ignored error while loading patient contour at Z-index 131 in C:\\Users\\sithi\\Research\\dataset\\Lung1_organized\\Lung-LUNG1-180\n",
      "Ignored error while loading patient contour at Z-index 131 in C:\\Users\\sithi\\Research\\dataset\\Lung1_organized\\Lung-LUNG1-180\n",
      "Ignored error while loading patient contour at Z-index 132 in C:\\Users\\sithi\\Research\\dataset\\Lung1_organized\\Lung-LUNG1-180\n",
      "Ignored error while loading patient contour at Z-index 132 in C:\\Users\\sithi\\Research\\dataset\\Lung1_organized\\Lung-LUNG1-180\n",
      "Ignored error while loading patient contour at Z-index 132 in C:\\Users\\sithi\\Research\\dataset\\Lung1_organized\\Lung-LUNG1-180\n",
      "Ignored error while loading patient contour at Z-index 133 in C:\\Users\\sithi\\Research\\dataset\\Lung1_organized\\Lung-LUNG1-180\n",
      "Ignored error while loading patient contour at Z-index 133 in C:\\Users\\sithi\\Research\\dataset\\Lung1_organized\\Lung-LUNG1-180\n",
      "Ignored error while loading patient contour at Z-index 133 in C:\\Users\\sithi\\Research\\dataset\\Lung1_organized\\Lung-LUNG1-180\n"
     ]
    },
    {
     "name": "stderr",
     "output_type": "stream",
     "text": [
      "Loading dcm series inside folder C:\\Users\\sithi\\Research\\dataset\\Lung1_organized\\Lung-LUNG1-183:  43%|▍| 180/422 [32:56"
     ]
    },
    {
     "name": "stdout",
     "output_type": "stream",
     "text": [
      "Ignored error while loading patient contour at Z-index 122 in C:\\Users\\sithi\\Research\\dataset\\Lung1_organized\\Lung-LUNG1-181\n",
      "Ignored error while loading patient contour at Z-index 122 in C:\\Users\\sithi\\Research\\dataset\\Lung1_organized\\Lung-LUNG1-181\n",
      "Ignored error while loading patient contour at Z-index 123 in C:\\Users\\sithi\\Research\\dataset\\Lung1_organized\\Lung-LUNG1-181\n",
      "Ignored error while loading patient contour at Z-index 123 in C:\\Users\\sithi\\Research\\dataset\\Lung1_organized\\Lung-LUNG1-181\n",
      "Ignored error while loading patient contour at Z-index 123 in C:\\Users\\sithi\\Research\\dataset\\Lung1_organized\\Lung-LUNG1-181\n",
      "Ignored error while loading patient contour at Z-index 124 in C:\\Users\\sithi\\Research\\dataset\\Lung1_organized\\Lung-LUNG1-181\n",
      "Ignored error while loading patient contour at Z-index 124 in C:\\Users\\sithi\\Research\\dataset\\Lung1_organized\\Lung-LUNG1-181\n",
      "Ignored error while loading patient contour at Z-index 124 in C:\\Users\\sithi\\Research\\dataset\\Lung1_organized\\Lung-LUNG1-181\n",
      "Ignored error while loading patient contour at Z-index 125 in C:\\Users\\sithi\\Research\\dataset\\Lung1_organized\\Lung-LUNG1-181\n",
      "Ignored error while loading patient contour at Z-index 125 in C:\\Users\\sithi\\Research\\dataset\\Lung1_organized\\Lung-LUNG1-181\n",
      "Ignored error while loading patient contour at Z-index 125 in C:\\Users\\sithi\\Research\\dataset\\Lung1_organized\\Lung-LUNG1-181\n",
      "Ignored error while loading patient contour at Z-index 126 in C:\\Users\\sithi\\Research\\dataset\\Lung1_organized\\Lung-LUNG1-181\n",
      "Ignored error while loading patient contour at Z-index 126 in C:\\Users\\sithi\\Research\\dataset\\Lung1_organized\\Lung-LUNG1-181\n",
      "Ignored error while loading patient contour at Z-index 126 in C:\\Users\\sithi\\Research\\dataset\\Lung1_organized\\Lung-LUNG1-181\n",
      "Ignored error while loading patient contour at Z-index 127 in C:\\Users\\sithi\\Research\\dataset\\Lung1_organized\\Lung-LUNG1-181\n",
      "Ignored error while loading patient contour at Z-index 127 in C:\\Users\\sithi\\Research\\dataset\\Lung1_organized\\Lung-LUNG1-181\n",
      "Ignored error while loading patient contour at Z-index 127 in C:\\Users\\sithi\\Research\\dataset\\Lung1_organized\\Lung-LUNG1-181\n",
      "Ignored error while loading patient contour at Z-index 128 in C:\\Users\\sithi\\Research\\dataset\\Lung1_organized\\Lung-LUNG1-181\n",
      "Ignored error while loading patient contour at Z-index 128 in C:\\Users\\sithi\\Research\\dataset\\Lung1_organized\\Lung-LUNG1-181\n",
      "Ignored error while loading patient contour at Z-index 128 in C:\\Users\\sithi\\Research\\dataset\\Lung1_organized\\Lung-LUNG1-181\n",
      "Ignored error while loading patient contour at Z-index 129 in C:\\Users\\sithi\\Research\\dataset\\Lung1_organized\\Lung-LUNG1-181\n",
      "Ignored error while loading patient contour at Z-index 129 in C:\\Users\\sithi\\Research\\dataset\\Lung1_organized\\Lung-LUNG1-181\n",
      "Ignored error while loading patient contour at Z-index 129 in C:\\Users\\sithi\\Research\\dataset\\Lung1_organized\\Lung-LUNG1-181\n",
      "Ignored error while loading patient contour at Z-index 130 in C:\\Users\\sithi\\Research\\dataset\\Lung1_organized\\Lung-LUNG1-181\n",
      "Ignored error while loading patient contour at Z-index 130 in C:\\Users\\sithi\\Research\\dataset\\Lung1_organized\\Lung-LUNG1-181\n",
      "Ignored error while loading patient contour at Z-index 130 in C:\\Users\\sithi\\Research\\dataset\\Lung1_organized\\Lung-LUNG1-181\n",
      "Ignored error while loading patient contour at Z-index 131 in C:\\Users\\sithi\\Research\\dataset\\Lung1_organized\\Lung-LUNG1-181\n",
      "Ignored error while loading patient contour at Z-index 131 in C:\\Users\\sithi\\Research\\dataset\\Lung1_organized\\Lung-LUNG1-181\n",
      "Ignored error while loading patient contour at Z-index 131 in C:\\Users\\sithi\\Research\\dataset\\Lung1_organized\\Lung-LUNG1-181\n",
      "Ignored error while loading patient contour at Z-index 132 in C:\\Users\\sithi\\Research\\dataset\\Lung1_organized\\Lung-LUNG1-181\n",
      "Ignored error while loading patient contour at Z-index 132 in C:\\Users\\sithi\\Research\\dataset\\Lung1_organized\\Lung-LUNG1-181\n",
      "Ignored error while loading patient contour at Z-index 132 in C:\\Users\\sithi\\Research\\dataset\\Lung1_organized\\Lung-LUNG1-181\n",
      "Ignored error while loading patient contour at Z-index 133 in C:\\Users\\sithi\\Research\\dataset\\Lung1_organized\\Lung-LUNG1-181\n",
      "Ignored error while loading patient contour at Z-index 133 in C:\\Users\\sithi\\Research\\dataset\\Lung1_organized\\Lung-LUNG1-181\n",
      "Ignored error while loading patient contour at Z-index 133 in C:\\Users\\sithi\\Research\\dataset\\Lung1_organized\\Lung-LUNG1-181\n",
      "Ignored error while loading patient contour at Z-index 134 in C:\\Users\\sithi\\Research\\dataset\\Lung1_organized\\Lung-LUNG1-181\n",
      "Ignored error while loading patient contour at Z-index 134 in C:\\Users\\sithi\\Research\\dataset\\Lung1_organized\\Lung-LUNG1-181\n",
      "Ignored error while loading patient contour at Z-index 134 in C:\\Users\\sithi\\Research\\dataset\\Lung1_organized\\Lung-LUNG1-181\n",
      "Ignored error while loading patient contour at Z-index 135 in C:\\Users\\sithi\\Research\\dataset\\Lung1_organized\\Lung-LUNG1-181\n",
      "Ignored error while loading patient contour at Z-index 135 in C:\\Users\\sithi\\Research\\dataset\\Lung1_organized\\Lung-LUNG1-181\n",
      "Ignored error while loading patient contour at Z-index 135 in C:\\Users\\sithi\\Research\\dataset\\Lung1_organized\\Lung-LUNG1-181\n",
      "Ignored error while loading patient contour at Z-index 136 in C:\\Users\\sithi\\Research\\dataset\\Lung1_organized\\Lung-LUNG1-181\n",
      "Ignored error while loading patient contour at Z-index 136 in C:\\Users\\sithi\\Research\\dataset\\Lung1_organized\\Lung-LUNG1-181\n",
      "Ignored error while loading patient contour at Z-index 136 in C:\\Users\\sithi\\Research\\dataset\\Lung1_organized\\Lung-LUNG1-181\n",
      "Ignored error while loading patient contour at Z-index 137 in C:\\Users\\sithi\\Research\\dataset\\Lung1_organized\\Lung-LUNG1-181\n",
      "Ignored error while loading patient contour at Z-index 137 in C:\\Users\\sithi\\Research\\dataset\\Lung1_organized\\Lung-LUNG1-181\n",
      "Ignored error while loading patient contour at Z-index 137 in C:\\Users\\sithi\\Research\\dataset\\Lung1_organized\\Lung-LUNG1-181\n",
      "Ignored error while loading patient contour at Z-index 138 in C:\\Users\\sithi\\Research\\dataset\\Lung1_organized\\Lung-LUNG1-181\n",
      "Ignored error while loading patient contour at Z-index 138 in C:\\Users\\sithi\\Research\\dataset\\Lung1_organized\\Lung-LUNG1-181\n",
      "Ignored error while loading patient contour at Z-index 138 in C:\\Users\\sithi\\Research\\dataset\\Lung1_organized\\Lung-LUNG1-181\n",
      "Ignored error while loading patient contour at Z-index 139 in C:\\Users\\sithi\\Research\\dataset\\Lung1_organized\\Lung-LUNG1-181\n",
      "Ignored error while loading patient contour at Z-index 139 in C:\\Users\\sithi\\Research\\dataset\\Lung1_organized\\Lung-LUNG1-181\n",
      "Ignored error while loading patient contour at Z-index 139 in C:\\Users\\sithi\\Research\\dataset\\Lung1_organized\\Lung-LUNG1-181\n",
      "Ignored error while loading patient contour at Z-index 140 in C:\\Users\\sithi\\Research\\dataset\\Lung1_organized\\Lung-LUNG1-181\n",
      "Ignored error while loading patient contour at Z-index 140 in C:\\Users\\sithi\\Research\\dataset\\Lung1_organized\\Lung-LUNG1-181\n",
      "Ignored error while loading patient contour at Z-index 140 in C:\\Users\\sithi\\Research\\dataset\\Lung1_organized\\Lung-LUNG1-181\n",
      "Ignored error while loading patient contour at Z-index 141 in C:\\Users\\sithi\\Research\\dataset\\Lung1_organized\\Lung-LUNG1-181\n",
      "Ignored error while loading patient contour at Z-index 141 in C:\\Users\\sithi\\Research\\dataset\\Lung1_organized\\Lung-LUNG1-181\n",
      "Ignored error while loading patient contour at Z-index 141 in C:\\Users\\sithi\\Research\\dataset\\Lung1_organized\\Lung-LUNG1-181\n",
      "Ignored error while loading patient contour at Z-index 123 in C:\\Users\\sithi\\Research\\dataset\\Lung1_organized\\Lung-LUNG1-182\n",
      "Ignored error while loading patient contour at Z-index 124 in C:\\Users\\sithi\\Research\\dataset\\Lung1_organized\\Lung-LUNG1-182\n",
      "Ignored error while loading patient contour at Z-index 125 in C:\\Users\\sithi\\Research\\dataset\\Lung1_organized\\Lung-LUNG1-182\n",
      "Ignored error while loading patient contour at Z-index 126 in C:\\Users\\sithi\\Research\\dataset\\Lung1_organized\\Lung-LUNG1-182\n",
      "Ignored error while loading patient contour at Z-index 127 in C:\\Users\\sithi\\Research\\dataset\\Lung1_organized\\Lung-LUNG1-182\n",
      "Ignored error while loading patient contour at Z-index 128 in C:\\Users\\sithi\\Research\\dataset\\Lung1_organized\\Lung-LUNG1-182\n",
      "Ignored error while loading patient contour at Z-index 129 in C:\\Users\\sithi\\Research\\dataset\\Lung1_organized\\Lung-LUNG1-182\n",
      "Ignored error while loading patient contour at Z-index 130 in C:\\Users\\sithi\\Research\\dataset\\Lung1_organized\\Lung-LUNG1-182\n",
      "Ignored error while loading patient contour at Z-index 131 in C:\\Users\\sithi\\Research\\dataset\\Lung1_organized\\Lung-LUNG1-182\n",
      "Ignored error while loading patient contour at Z-index 132 in C:\\Users\\sithi\\Research\\dataset\\Lung1_organized\\Lung-LUNG1-182\n",
      "Ignored error while loading patient contour at Z-index 133 in C:\\Users\\sithi\\Research\\dataset\\Lung1_organized\\Lung-LUNG1-182\n",
      "Ignored error while loading patient contour at Z-index 133 in C:\\Users\\sithi\\Research\\dataset\\Lung1_organized\\Lung-LUNG1-182\n"
     ]
    },
    {
     "name": "stderr",
     "output_type": "stream",
     "text": [
      "Loading dcm series inside folder C:\\Users\\sithi\\Research\\dataset\\Lung1_organized\\Lung-LUNG1-189:  44%|▍| 187/422 [34:36"
     ]
    },
    {
     "name": "stdout",
     "output_type": "stream",
     "text": [
      "Ignored error while loading patient contour at Z-index 114 in C:\\Users\\sithi\\Research\\dataset\\Lung1_organized\\Lung-LUNG1-188\n"
     ]
    },
    {
     "name": "stderr",
     "output_type": "stream",
     "text": [
      "Loading dcm series inside folder C:\\Users\\sithi\\Research\\dataset\\Lung1_organized\\Lung-LUNG1-222:  52%|▌| 219/422 [40:39"
     ]
    },
    {
     "name": "stdout",
     "output_type": "stream",
     "text": [
      "Ignored error while loading patient contour at Z-index 96 in C:\\Users\\sithi\\Research\\dataset\\Lung1_organized\\Lung-LUNG1-221\n",
      "Ignored error while loading patient contour at Z-index 99 in C:\\Users\\sithi\\Research\\dataset\\Lung1_organized\\Lung-LUNG1-221\n",
      "Ignored error while loading patient contour at Z-index 102 in C:\\Users\\sithi\\Research\\dataset\\Lung1_organized\\Lung-LUNG1-221\n",
      "Ignored error while loading patient contour at Z-index 106 in C:\\Users\\sithi\\Research\\dataset\\Lung1_organized\\Lung-LUNG1-221\n",
      "Ignored error while loading patient contour at Z-index 109 in C:\\Users\\sithi\\Research\\dataset\\Lung1_organized\\Lung-LUNG1-221\n"
     ]
    },
    {
     "name": "stderr",
     "output_type": "stream",
     "text": [
      "Loading dcm series inside folder C:\\Users\\sithi\\Research\\dataset\\Lung1_organized\\Lung-LUNG1-231:  54%|▌| 228/422 [41:58"
     ]
    },
    {
     "name": "stdout",
     "output_type": "stream",
     "text": [
      "Ignored error while loading patient contour at Z-index 94 in C:\\Users\\sithi\\Research\\dataset\\Lung1_organized\\Lung-LUNG1-229\n",
      "Ignored error while loading patient contour at Z-index 95 in C:\\Users\\sithi\\Research\\dataset\\Lung1_organized\\Lung-LUNG1-229\n",
      "Ignored error while loading patient contour at Z-index 96 in C:\\Users\\sithi\\Research\\dataset\\Lung1_organized\\Lung-LUNG1-229\n",
      "Ignored error while loading patient contour at Z-index 97 in C:\\Users\\sithi\\Research\\dataset\\Lung1_organized\\Lung-LUNG1-229\n",
      "Ignored error while loading patient contour at Z-index 98 in C:\\Users\\sithi\\Research\\dataset\\Lung1_organized\\Lung-LUNG1-229\n",
      "Ignored error while loading patient contour at Z-index 99 in C:\\Users\\sithi\\Research\\dataset\\Lung1_organized\\Lung-LUNG1-229\n",
      "Ignored error while loading patient contour at Z-index 100 in C:\\Users\\sithi\\Research\\dataset\\Lung1_organized\\Lung-LUNG1-229\n",
      "Ignored error while loading patient contour at Z-index 101 in C:\\Users\\sithi\\Research\\dataset\\Lung1_organized\\Lung-LUNG1-229\n",
      "Ignored error while loading patient contour at Z-index 102 in C:\\Users\\sithi\\Research\\dataset\\Lung1_organized\\Lung-LUNG1-229\n"
     ]
    },
    {
     "name": "stderr",
     "output_type": "stream",
     "text": [
      "Loading dcm series inside folder C:\\Users\\sithi\\Research\\dataset\\Lung1_organized\\Lung-LUNG1-242:  57%|▌| 239/422 [44:13"
     ]
    },
    {
     "name": "stdout",
     "output_type": "stream",
     "text": [
      "Ignored error while loading patient contour at Z-index 135 in C:\\Users\\sithi\\Research\\dataset\\Lung1_organized\\Lung-LUNG1-240\n",
      "Ignored error while loading patient contour at Z-index 135 in C:\\Users\\sithi\\Research\\dataset\\Lung1_organized\\Lung-LUNG1-240\n",
      "Ignored error while loading patient contour at Z-index 135 in C:\\Users\\sithi\\Research\\dataset\\Lung1_organized\\Lung-LUNG1-240\n",
      "Ignored error while loading patient contour at Z-index 136 in C:\\Users\\sithi\\Research\\dataset\\Lung1_organized\\Lung-LUNG1-240\n",
      "Ignored error while loading patient contour at Z-index 136 in C:\\Users\\sithi\\Research\\dataset\\Lung1_organized\\Lung-LUNG1-240\n",
      "Ignored error while loading patient contour at Z-index 136 in C:\\Users\\sithi\\Research\\dataset\\Lung1_organized\\Lung-LUNG1-240\n",
      "Ignored error while loading patient contour at Z-index 138 in C:\\Users\\sithi\\Research\\dataset\\Lung1_organized\\Lung-LUNG1-240\n",
      "Ignored error while loading patient contour at Z-index 138 in C:\\Users\\sithi\\Research\\dataset\\Lung1_organized\\Lung-LUNG1-240\n",
      "Ignored error while loading patient contour at Z-index 138 in C:\\Users\\sithi\\Research\\dataset\\Lung1_organized\\Lung-LUNG1-240\n",
      "Ignored error while loading patient contour at Z-index 140 in C:\\Users\\sithi\\Research\\dataset\\Lung1_organized\\Lung-LUNG1-240\n",
      "Ignored error while loading patient contour at Z-index 140 in C:\\Users\\sithi\\Research\\dataset\\Lung1_organized\\Lung-LUNG1-240\n",
      "Ignored error while loading patient contour at Z-index 140 in C:\\Users\\sithi\\Research\\dataset\\Lung1_organized\\Lung-LUNG1-240\n",
      "Ignored error while loading patient contour at Z-index 141 in C:\\Users\\sithi\\Research\\dataset\\Lung1_organized\\Lung-LUNG1-240\n",
      "Ignored error while loading patient contour at Z-index 141 in C:\\Users\\sithi\\Research\\dataset\\Lung1_organized\\Lung-LUNG1-240\n",
      "Ignored error while loading patient contour at Z-index 141 in C:\\Users\\sithi\\Research\\dataset\\Lung1_organized\\Lung-LUNG1-240\n",
      "Ignored error while loading patient contour at Z-index 143 in C:\\Users\\sithi\\Research\\dataset\\Lung1_organized\\Lung-LUNG1-240\n",
      "Ignored error while loading patient contour at Z-index 143 in C:\\Users\\sithi\\Research\\dataset\\Lung1_organized\\Lung-LUNG1-240\n",
      "Ignored error while loading patient contour at Z-index 143 in C:\\Users\\sithi\\Research\\dataset\\Lung1_organized\\Lung-LUNG1-240\n"
     ]
    },
    {
     "name": "stderr",
     "output_type": "stream",
     "text": [
      "Loading dcm series inside folder C:\\Users\\sithi\\Research\\dataset\\Lung1_organized\\Lung-LUNG1-263:  61%|▌| 259/422 [48:06"
     ]
    },
    {
     "name": "stdout",
     "output_type": "stream",
     "text": [
      "Ignored error while loading patient contour at Z-index 94 in C:\\Users\\sithi\\Research\\dataset\\Lung1_organized\\Lung-LUNG1-261\n",
      "Ignored error while loading patient contour at Z-index 95 in C:\\Users\\sithi\\Research\\dataset\\Lung1_organized\\Lung-LUNG1-261\n",
      "Ignored error while loading patient contour at Z-index 96 in C:\\Users\\sithi\\Research\\dataset\\Lung1_organized\\Lung-LUNG1-261\n",
      "Ignored error while loading patient contour at Z-index 97 in C:\\Users\\sithi\\Research\\dataset\\Lung1_organized\\Lung-LUNG1-261\n",
      "Ignored error while loading patient contour at Z-index 98 in C:\\Users\\sithi\\Research\\dataset\\Lung1_organized\\Lung-LUNG1-261\n",
      "Ignored error while loading patient contour at Z-index 99 in C:\\Users\\sithi\\Research\\dataset\\Lung1_organized\\Lung-LUNG1-261\n",
      "Ignored error while loading patient contour at Z-index 100 in C:\\Users\\sithi\\Research\\dataset\\Lung1_organized\\Lung-LUNG1-261\n",
      "Ignored error while loading patient contour at Z-index 101 in C:\\Users\\sithi\\Research\\dataset\\Lung1_organized\\Lung-LUNG1-261\n"
     ]
    },
    {
     "name": "stderr",
     "output_type": "stream",
     "text": [
      "Loading dcm series inside folder C:\\Users\\sithi\\Research\\dataset\\Lung1_organized\\Lung-LUNG1-308:  72%|▋| 304/422 [58:11"
     ]
    },
    {
     "name": "stdout",
     "output_type": "stream",
     "text": [
      "Ignored error while loading patient contour at Z-index 133 in C:\\Users\\sithi\\Research\\dataset\\Lung1_organized\\Lung-LUNG1-307\n"
     ]
    },
    {
     "name": "stderr",
     "output_type": "stream",
     "text": [
      "Loading dcm series inside folder C:\\Users\\sithi\\Research\\dataset\\Lung1_organized\\Lung-LUNG1-422: 100%|▉| 421/422 [1:23:\n"
     ]
    }
   ],
   "source": [
    "paths = [os.path.join(ROOT_PATH,path) for path in os.listdir(ROOT_PATH)]\n",
    "\n",
    "with tqdm(paths, position=0, desc=f\"Processing dcm files\") as pbar:\n",
    "    with ThreadPoolExecutor(num_workers) as e:e.map(dcms_to_npy,paths,[pbar]*len(paths))"
   ]
  }
 ],
 "metadata": {
  "kernelspec": {
   "display_name": "Python 3",
   "language": "python",
   "name": "python3"
  },
  "language_info": {
   "codemirror_mode": {
    "name": "ipython",
    "version": 3
   },
   "file_extension": ".py",
   "mimetype": "text/x-python",
   "name": "python",
   "nbconvert_exporter": "python",
   "pygments_lexer": "ipython3",
   "version": "3.6.8"
  }
 },
 "nbformat": 4,
 "nbformat_minor": 4
}
