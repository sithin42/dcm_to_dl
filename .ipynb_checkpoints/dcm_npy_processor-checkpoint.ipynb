{
 "cells": [
  {
   "cell_type": "code",
   "execution_count": null,
   "metadata": {},
   "outputs": [],
   "source": [
    "ROI_NAMES = ['patient','lung','gtv'] #Will be used to match the ROINames in the RTSTRUCT file\n",
    "ROOT_PATH = r\"C:\\Users\\sithi\\Research\\dataset\\Lung1_organized\"\n",
    "OUT_PATH = r\"C:\\Users\\sithi\\Research\\dataset_processed\\Lung1_npy_vol\""
   ]
  },
  {
   "cell_type": "code",
   "execution_count": null,
   "metadata": {},
   "outputs": [],
   "source": [
    "import os as os\n",
    "import pydicom as pydicom\n",
    "import SimpleITK as sitk\n",
    "import numpy as np\n",
    "from skimage.draw import polygon\n",
    "from concurrent.futures import ThreadPoolExecutor"
   ]
  },
  {
   "cell_type": "code",
   "execution_count": null,
   "metadata": {},
   "outputs": [],
   "source": [
    "from tqdm import tqdm\n",
    "from ipywidgets import interact, widgets\n",
    "import matplotlib.pyplot as plt"
   ]
  },
  {
   "cell_type": "markdown",
   "metadata": {},
   "source": [
    "# DICOM Series & RTSTRUCT to npy volumes"
   ]
  },
  {
   "cell_type": "code",
   "execution_count": null,
   "metadata": {},
   "outputs": [],
   "source": [
    "def dcms_to_npy(path, pbar=tqdm([1], position=0,desc=\"Processing dcm_files\")):\n",
    "    \n",
    "    pbar.set_description(f\"Loading dcm series inside folder {path}\")\n",
    "    \n",
    "    try:\n",
    "        series_ids = sitk.ImageSeriesReader.GetGDCMSeriesIDs(path)\n",
    "    except:\n",
    "        pbar.set_description(f\"No dcm series found in path {path}\")\n",
    "        return\n",
    "    \n",
    "    img_vol = []\n",
    "    seen_files = set()\n",
    "    out_path = path.replace(ROOT_PATH, OUT_PATH)\n",
    "    img_position, pixel_spacing, slope, intercept = None, None, None, None\n",
    "    candidate_rt_paths = set()\n",
    "\n",
    "\n",
    "\n",
    "    for id in series_ids:\n",
    "\n",
    "        dcm_files = sitk.ImageSeriesReader.GetGDCMSeriesFileNames(path, id)\n",
    "        seen_files = seen_files.union([os.path.join(path,file.split('/')[-1]) for file in dcm_files])\n",
    "\n",
    "        for file in dcm_files:\n",
    "            dcm_file = pydicom.dcmread(file)\n",
    "            if not (dcm_file.Modality == 'CT'):\n",
    "                break;\n",
    "\n",
    "            if not (img_vol):\n",
    "                img_position = np.array(dcm_file.ImagePositionPatient)\n",
    "                pixel_spacing = np.array([*dcm_file.PixelSpacing] + [dcm_file.SliceThickness])\n",
    "                slope = dcm_file.RescaleSlope\n",
    "                intercept = dcm_file.RescaleIntercept\n",
    "\n",
    "                keys = [\"Manufacturer\", \"SoftwareVersions\", \"Kernel\", \"KVP\", \"ExposureTime\", \"Exposure\",\n",
    "                        \"TubeCurrent\", \"PixelSpacing\", \"SliceThickness\", \"StudyInstanceUID\", \"PatientName\",\n",
    "                        \"PatientID\"]\n",
    "                values = [dcm_file.get(\"Manufacturer\",\"\"), dcm_file.get(\"SoftwareVersions\",\"\"), dcm_file.get(\"ConvolutionKernel\",\"\"),\n",
    "                          dcm_file.get(\"KVP\",\"\"),dcm_file.get(\"ExposureTime\",\"\"), dcm_file.get(\"Exposure\",\"\"), dcm_file.get(\"XRayTubeCurrent\",\"\"),\n",
    "                          dcm_file.get(\"PixelSpacing\",\"\"), dcm_file.get(\"SliceThickness\",\"\"), dcm_file.get(\"StudyInstanceUID\",\"\"),\n",
    "                          dcm_file.get(\"PatientName\",\"\"), dcm_file.get(\"PatientID\",\"\")]\n",
    "                meta_info = dict(zip(keys, values))\n",
    "\n",
    "\n",
    "                if not os.path.exists(out_path):\n",
    "                    os.makedirs(out_path)\n",
    "\n",
    "                np.save(os.path.join(out_path,\"meta_info.npy\"),meta_info)\n",
    "\n",
    "            img_vol.append(dcm_file.pixel_array)\n",
    "\n",
    "    all_files = set(os.path.join(path, file) for file in os.listdir(path) if file.endswith(\".dcm\"))\n",
    "    candidate_rt_paths = candidate_rt_paths.union(all_files - seen_files)\n",
    "    \n",
    "\n",
    "    img_vol = np.array(img_vol)\n",
    "    img_vol = (img_vol * slope) + intercept\n",
    "    np.save(os.path.join(out_path, \"image.npy\"), img_vol)\n",
    "        \n",
    "        \n",
    "    rt_flag = 0\n",
    "        \n",
    "    for rt_path in candidate_rt_paths:\n",
    "        \n",
    "        \n",
    "        try:\n",
    "            dcm = pydicom.dcmread(rt_path)\n",
    "        except:\n",
    "            rt_flag += 1\n",
    "            continue;\n",
    "            \n",
    "        if not(dcm.Modality=='RTSTRUCT'):\n",
    "            rt_flag += 1\n",
    "            continue;\n",
    "            \n",
    "\n",
    "        out_path = os.path.join(out_path, \"masks\")\n",
    "        if not os.path.exists(out_path):\n",
    "            os.makedirs(out_path)\n",
    "            \n",
    "\n",
    "        for ROI_Name in ROI_NAMES:\n",
    "\n",
    "            mask_vol = np.zeros_like(img_vol, dtype=np.bool8)\n",
    "            \n",
    "            connected_vol = np.zeros_like(img_vol, dtype=np.bool8)\n",
    "\n",
    "\n",
    "            ROI_Numbers = [roi_sequence.ROINumber for roi_sequence in dcm.StructureSetROISequence]\n",
    "            candidate_roi_indeces = [ROI_Numbers.index(roi_sequence.ROINumber) for roi_sequence in dcm.StructureSetROISequence if ROI_Name.lower() in roi_sequence.ROIName.lower()]\n",
    "            \n",
    "            if(candidate_roi_indeces):\n",
    "\n",
    "                for index in candidate_roi_indeces:\n",
    "\n",
    "\n",
    "                    coords_list = [sequence.ContourData for sequence in\n",
    "                                   dcm.ROIContourSequence[index].ContourSequence]\n",
    "\n",
    "                    _mask_vol = np.copy(mask_vol)\n",
    "\n",
    "                    cache_indeces = []\n",
    "\n",
    "                    for coords in coords_list:\n",
    "                        coords = np.array(coords).reshape(-1, 3)\n",
    "\n",
    "                        coords = np.rint((coords - img_position) / pixel_spacing)\n",
    "\n",
    "                        Y = coords[:, 0]\n",
    "                        X = coords[:, 1]\n",
    "                        slice_no = int(np.unique(coords[:, 2])[0])\n",
    "                        \n",
    "                        if slice_no>=len(mask_vol):\n",
    "                            \n",
    "                            print(f\"Ignored error while loading {ROI_Name} contour at Z-index {slice_no} in {path}\")\n",
    "                            continue;\n",
    "\n",
    "                        rr, cc = polygon(X, Y)\n",
    "                        _mask_vol[slice_no, rr, cc] = 1\n",
    "                        \n",
    "                        cache_indeces += [slice_no]\n",
    "\n",
    "\n",
    "                    _connected_vol = np.copy(_mask_vol)\n",
    "                    \n",
    "                    #trivial connected component extraction, helps in minor contour correction\n",
    "\n",
    "                    for slice_no in cache_indeces:\n",
    "\n",
    "\n",
    "                        if slice_no == 0:\n",
    "                            _connected_vol[slice_no] = _connected_vol[slice_no] | _connected_vol[slice_no + 1]\n",
    "                        elif slice_no == len(_mask_vol) - 1:\n",
    "                            _connected_vol[slice_no] = _connected_vol[slice_no - 1] | _connected_vol[slice_no]\n",
    "                        else:\n",
    "                            _connected_vol[slice_no] = (_connected_vol[slice_no] | _connected_vol[\n",
    "                                slice_no + 1]) & (_connected_vol[slice_no - 1] | _connected_vol[slice_no])\n",
    "\n",
    "                    mask_vol = mask_vol | _mask_vol\n",
    "                    connected_vol = connected_vol | _connected_vol\n",
    "                            \n",
    "                \n",
    "                #np.save(os.path.join(out_path, ROI_Name.lower()+\".npy\"), mask_vol)\n",
    "                np.save(os.path.join(out_path,ROI_Name.lower()+\".npy\"),connected_vol)\n",
    "     \n",
    "    if rt_flag==len(candidate_rt_paths):\n",
    "        print(f\"No RTSTRUCT file found inside folder {path}\")\n",
    "        \n",
    "    pbar.update()\n"
   ]
  },
  {
   "cell_type": "markdown",
   "metadata": {},
   "source": [
    "__Sanity Check__"
   ]
  },
  {
   "cell_type": "code",
   "execution_count": null,
   "metadata": {},
   "outputs": [],
   "source": [
    "test_folder_name = \"Lung-LUNG1-307\""
   ]
  },
  {
   "cell_type": "code",
   "execution_count": null,
   "metadata": {},
   "outputs": [],
   "source": [
    "path = os.path.join(ROOT_PATH,test_folder_name)\n",
    "dcms_to_npy(path)"
   ]
  },
  {
   "cell_type": "markdown",
   "metadata": {},
   "source": [
    "__Visualizing Volume__"
   ]
  },
  {
   "cell_type": "code",
   "execution_count": null,
   "metadata": {},
   "outputs": [],
   "source": [
    "path = os.path.join(OUT_PATH,test_folder_name)\n",
    "img_path = os.path.join(path,\"image.npy\")\n",
    "mask_path = os.path.join(path,\"masks\")\n",
    "\n",
    "img = np.load(img_path)\n",
    "masks = np.array([np.load(os.path.join(mask_path,f\"{roi_name.lower()}.npy\")) for roi_name in ROI_NAMES])\n",
    "\n",
    "def visualize_vol(i):\n",
    "    \n",
    "    plt.imshow(img[i],cmap='gray')\n",
    "    _masks = masks[:,i]\n",
    "    \n",
    "    for mask,roi_name in zip(_masks, ROI_NAMES):\n",
    "        plt.scatter(np.argwhere(mask)[:,1],np.argwhere(mask)[:,0], label=roi_name)\n",
    "        #plt.contour(mask)\n",
    "       \n",
    "    plt.legend()\n",
    "         \n",
    "         \n",
    "    \n",
    "\n",
    "interact(visualize_vol,i=widgets.IntSlider(0,0,len(img)-1,1))"
   ]
  },
  {
   "cell_type": "markdown",
   "metadata": {},
   "source": [
    "# Main"
   ]
  },
  {
   "cell_type": "code",
   "execution_count": null,
   "metadata": {},
   "outputs": [],
   "source": [
    "num_workers = 3"
   ]
  },
  {
   "cell_type": "code",
   "execution_count": null,
   "metadata": {},
   "outputs": [],
   "source": [
    "paths = [os.path.join(ROOT_PATH,path) for path in os.listdir(ROOT_PATH)]\n",
    "\n",
    "with tqdm(paths, position=0, desc=f\"Processing dcm files\") as pbar:\n",
    "    with ThreadPoolExecutor(num_workers) as e:e.map(dcms_to_npy,paths,[pbar]*len(paths))"
   ]
  }
 ],
 "metadata": {
  "kernelspec": {
   "display_name": "Python 3",
   "language": "python",
   "name": "python3"
  },
  "language_info": {
   "codemirror_mode": {
    "name": "ipython",
    "version": 3
   },
   "file_extension": ".py",
   "mimetype": "text/x-python",
   "name": "python",
   "nbconvert_exporter": "python",
   "pygments_lexer": "ipython3",
   "version": "3.6.8"
  }
 },
 "nbformat": 4,
 "nbformat_minor": 4
}
